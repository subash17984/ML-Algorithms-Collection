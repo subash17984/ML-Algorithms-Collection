{
  "nbformat": 4,
  "nbformat_minor": 0,
  "metadata": {
    "colab": {
      "provenance": []
    },
    "kernelspec": {
      "name": "python3",
      "display_name": "Python 3"
    },
    "language_info": {
      "name": "python"
    }
  },
  "cells": [
    {
      "cell_type": "code",
      "execution_count": 2,
      "metadata": {
        "id": "fx8OnjuCKPRl"
      },
      "outputs": [],
      "source": [
        "from sklearn.datasets import load_iris\n",
        "from sklearn.model_selection import train_test_split\n",
        "from sklearn.neighbors import KNeighborsClassifier\n",
        "from sklearn.metrics import accuracy_score"
      ]
    },
    {
      "cell_type": "code",
      "source": [
        "# Load dataset\n",
        "iris=load_iris()\n",
        "X,y= iris.data, iris.target"
      ],
      "metadata": {
        "id": "_cSiKrXUK7Yf"
      },
      "execution_count": 3,
      "outputs": []
    },
    {
      "cell_type": "code",
      "source": [
        "# Split data into training & test sets\n",
        "X_train, X_test, y_train, y_test= train_test_split(X,y, test_size=0.3, random_state=42)\n",
        "# Initialize KNN with k=3\n",
        "knn=KNeighborsClassifier(n_neighbors=3)\n",
        "#Train the model\n",
        "knn.fit(X_train,y_train)\n",
        "# Make predictions\n",
        "y_pred=knn.predict(X_test)"
      ],
      "metadata": {
        "id": "CHLIwpDPLJul"
      },
      "execution_count": 4,
      "outputs": []
    },
    {
      "cell_type": "code",
      "source": [
        "# Evaluate accuracy\n",
        "print(\"Accuracy:\", accuracy_score(y_test, y_pred))"
      ],
      "metadata": {
        "colab": {
          "base_uri": "https://localhost:8080/"
        },
        "id": "cO4XE1ZPL5Fh",
        "outputId": "89646a1e-6f9e-4b68-a503-906d80766064"
      },
      "execution_count": 5,
      "outputs": [
        {
          "output_type": "stream",
          "name": "stdout",
          "text": [
            "Accuracy: 1.0\n"
          ]
        }
      ]
    },
    {
      "cell_type": "markdown",
      "source": [
        "Regression"
      ],
      "metadata": {
        "id": "vkb8X1vVMRLB"
      }
    },
    {
      "cell_type": "code",
      "source": [
        "from sklearn.datasets import fetch_california_housing\n",
        "from sklearn.model_selection import train_test_split\n",
        "from sklearn.neighbors import KNeighborsRegressor\n",
        "from sklearn.metrics import mean_squared_error"
      ],
      "metadata": {
        "id": "15T7ecWOMSfU"
      },
      "execution_count": 11,
      "outputs": []
    },
    {
      "cell_type": "code",
      "source": [
        "# Load california housing dataset\n",
        "california= fetch_california_housing()\n",
        "X,y=california.data, california.target"
      ],
      "metadata": {
        "id": "Ziy2oLpnMkw7"
      },
      "execution_count": 12,
      "outputs": []
    },
    {
      "cell_type": "code",
      "source": [
        "# Train-test split\n",
        "X_train,X_test,y_train,y_test=train_test_split(X,y, test_size=0.3, random_state=42)"
      ],
      "metadata": {
        "id": "ckDy03-lNPEV"
      },
      "execution_count": 13,
      "outputs": []
    },
    {
      "cell_type": "code",
      "source": [
        "# Initialize KNN Regressor\n",
        "knn_reg=KNeighborsRegressor(n_neighbors=5)\n",
        "# Train\n",
        "knn_reg.fit(X_train, y_train)\n",
        "# Predict\n",
        "y_pred = knn_reg.predict(X_test)"
      ],
      "metadata": {
        "id": "TcG-CPDNNdCs"
      },
      "execution_count": 15,
      "outputs": []
    },
    {
      "cell_type": "code",
      "source": [
        "# Evaluate\n",
        "print(\"MSE:\", mean_squared_error(y_test,y_pred))"
      ],
      "metadata": {
        "colab": {
          "base_uri": "https://localhost:8080/"
        },
        "id": "vlS4eQG9N1E2",
        "outputId": "6b7798d6-5bf0-4b52-8290-8ba45b3ea2c5"
      },
      "execution_count": 16,
      "outputs": [
        {
          "output_type": "stream",
          "name": "stdout",
          "text": [
            "MSE: 1.136942049088978\n"
          ]
        }
      ]
    },
    {
      "cell_type": "code",
      "source": [],
      "metadata": {
        "id": "vHYwxKmGOEkn"
      },
      "execution_count": null,
      "outputs": []
    }
  ]
}